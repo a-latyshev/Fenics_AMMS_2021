{
 "cells": [
  {
   "cell_type": "markdown",
   "metadata": {},
   "source": [
    "# Introduction to nonlinear elasticity: deflection of a heavy hyperelastic beam \n",
    "\n",
    "In this notebook we give an example for the solution of a problem of nonlinear elasticity.\n",
    "\n",
    "We focus on the simple problem of a cantilever beam loaded only by its own weigth\n",
    "\n",
    "We exploit `UFL` features for automatic symbolic differentiation and formulate the problem by writing the potential energy of the system. \n",
    "\n",
    "We will use here the FEniCS  build-in nonlinear Netwon solver to solve the problem.\n",
    "\n",
    "We strongly suggest to read also the fully commented`FEniCS` demo on hypelasticity \n",
    "https://fenicsproject.org/docs/dolfin/2019.1.0/python/demos/hyperelasticity/demo_hyperelasticity.py.html.\n",
    "\n",
    "The comments in this noteboook are complentary to those provided  in the FEniCS demo"
   ]
  },
  {
   "cell_type": "markdown",
   "metadata": {},
   "source": [
    "## Basic import statements and parameters"
   ]
  },
  {
   "cell_type": "code",
   "execution_count": 1,
   "metadata": {},
   "outputs": [],
   "source": [
    "import dolfin\n",
    "import mshr\n",
    "import ufl\n",
    "import numpy as np\n",
    "import matplotlib.pyplot as plt\n",
    "dolfin.parameters[\"form_compiler\"][\"cpp_optimize\"] = True\n",
    "dolfin.parameters[\"form_compiler\"][\"representation\"] = \"uflacs\"\n",
    "plt.style.use('seaborn-notebook')\n",
    "%matplotlib inline"
   ]
  },
  {
   "cell_type": "markdown",
   "metadata": {},
   "source": [
    "## Problem and solver setting"
   ]
  },
  {
   "cell_type": "markdown",
   "metadata": {},
   "source": [
    "Create a mesh and the `ds` measures with boundary indicators "
   ]
  },
  {
   "cell_type": "code",
   "execution_count": 2,
   "metadata": {},
   "outputs": [
    {
     "data": {
      "text/plain": [
       "[<matplotlib.lines.Line2D at 0x7fe8c7eaaeb0>,\n",
       " <matplotlib.lines.Line2D at 0x7fe8c7e411f0>]"
      ]
     },
     "execution_count": 2,
     "metadata": {},
     "output_type": "execute_result"
    },
    {
     "data": {
      "image/png": "[encoded data removed]",
      "text/plain": [
       "<Figure size 432x288 with 1 Axes>"
      ]
     },
     "metadata": {
      "needs_background": "light"
     },
     "output_type": "display_data"
    }
   ],
   "source": [
    "Lx, Ly = 1., .1\n",
    "nx = 20\n",
    "p0 = dolfin.Point(0,0)\n",
    "p1 = dolfin.Point(Lx,Ly)\n",
    "geom = mshr.Rectangle(p0,p1)\n",
    "mesh = mshr.generate_mesh(geom,nx)\n",
    "\n",
    "# Mark boundary subdomains\n",
    "left = dolfin.CompiledSubDomain(\"near(x[0],0) && on_boundary\")\n",
    "right = dolfin.CompiledSubDomain(\"near(x[0],Lx) && on_boundary\",Lx=Lx)\n",
    "bottom = dolfin.CompiledSubDomain(\"near(x[1],0) && on_boundary\")\n",
    "top = dolfin.CompiledSubDomain(\"near(x[1],Ly) && on_boundary\",Ly=Ly)\n",
    "\n",
    "# Mark facets for Neumann BCs\n",
    "boundary_indices = {'left': 1,\n",
    "                    'right': 2,\n",
    "                    'top': 3,\n",
    "                    'bottom': 4}\n",
    "boundary_markers = dolfin.MeshFunction(\"size_t\", mesh, dim=1, value=0)\n",
    "left.mark(boundary_markers, boundary_indices[\"left\"])\n",
    "right.mark(boundary_markers, boundary_indices[\"right\"])\n",
    "top.mark(boundary_markers, boundary_indices[\"top\"])\n",
    "bottom.mark(boundary_markers, boundary_indices[\"bottom\"])\n",
    "\n",
    "# Redefine element of area to include information about the markers\n",
    "ds = dolfin.ds(domain=mesh, subdomain_data=boundary_markers)\n",
    "dx = dolfin.dx(domain=mesh)\n",
    "dolfin.plot(mesh)"
   ]
  },
  {
   "cell_type": "markdown",
   "metadata": {},
   "source": [
    "We save the markers in an XDMF file that can be opened in paraview."
   ]
  },
  {
   "cell_type": "code",
   "execution_count": 3,
   "metadata": {},
   "outputs": [],
   "source": [
    "with dolfin.XDMFFile(\"mesh_functions.xdmf\") as f:\n",
    "    f.write(boundary_markers)"
   ]
  },
  {
   "cell_type": "markdown",
   "metadata": {},
   "source": [
    " We define now the finite element space for the displacement u"
   ]
  },
  {
   "cell_type": "code",
   "execution_count": 4,
   "metadata": {},
   "outputs": [
    {
     "name": "stdout",
     "output_type": "stream",
     "text": [
      "Calling FFC just-in-time (JIT) compiler, this may take some time.\n",
      "Calling FFC just-in-time (JIT) compiler, this may take some time.\n"
     ]
    }
   ],
   "source": [
    "V_element = dolfin.VectorElement('CG', ufl.triangle, degree=2) \n",
    "V = dolfin.FunctionSpace(mesh, V_element)\n",
    "u = dolfin.Function(V, name=\"u\")"
   ]
  },
  {
   "cell_type": "markdown",
   "metadata": {},
   "source": [
    " Let us introduce now some useful definition for the kinematics.\n",
    " These expresions are symbolic operators of UFL.\n",
    " At this level no computation is performed."
   ]
  },
  {
   "cell_type": "code",
   "execution_count": 5,
   "metadata": {},
   "outputs": [],
   "source": [
    "# Kinematics \n",
    "I = ufl.Identity(2)    # Identity tensor\n",
    "F = ufl.variable(I + ufl.grad(u))  \n",
    "C = F.T*F                   \n",
    "Ic = ufl.tr(C)\n",
    "J  = ufl.det(F)\n",
    "E = 1/2*(C-I)\n",
    "# Stored strain energy density (compressible neo-Hookean model)\n",
    "# Elasticity parameters (plane-stress)\n",
    "Y, nu = 1.e3, 0.3\n",
    "mu, lmbda = dolfin.Constant(Y/(2*(1 + nu))), dolfin.Constant(Y*nu/((1 + nu)*(1 - 2*nu)))\n",
    "lmbda = 2*lmbda*mu/(lmbda + 2*mu) \n",
    "psi = lmbda*ufl.tr(E)**2/2+mu*ufl.inner(E,E)"
   ]
  },
  {
   "cell_type": "markdown",
   "metadata": {},
   "source": [
    " We can have an automatic symbolic derivation of the strain energy density to define the First Piola-Kirchhoff stress \n",
    " \n",
    " $${P}=\\dfrac{\\partial\\Psi}{\\partial F}$$\n",
    " \n",
    " To this end we use the `diff` operator of `UFL`(https://fenics.readthedocs.io/projects/ufl/en/latest/manual/form_language.html#variable-derivatives).\n",
    " \n",
    " Its use requires to define the symbol of the derivation variable as a `UFL` `variable`. \n",
    " That is the reason why `F` in the preivous cell is defined as a `ufl.variable`.\n"
   ]
  },
  {
   "cell_type": "code",
   "execution_count": 6,
   "metadata": {},
   "outputs": [],
   "source": [
    "P = ufl.diff(psi, F) \n",
    "n = dolfin.FacetNormal(mesh) # normal to the mesh"
   ]
  },
  {
   "cell_type": "markdown",
   "metadata": {},
   "source": [
    "Hence, we can define the bulk force (`b0`) and surface traction (`g0`) and the total potential energy functional. in this example they are initially set to `0`."
   ]
  },
  {
   "cell_type": "code",
   "execution_count": 7,
   "metadata": {},
   "outputs": [],
   "source": [
    "b0 = dolfin.Expression((\"0.0\", \"mu*t\"), t=0, mu=mu, degree=0)  \n",
    "g0 = mu*dolfin.Constant((0.0,0.0)) \n",
    "\n",
    "# Total potential energy\n",
    "potential_energy = psi*dx - ufl.dot(b0, u)*dx - ufl.dot(g0, u)*ds(boundary_indices['right'])"
   ]
  },
  {
   "cell_type": "markdown",
   "metadata": {},
   "source": [
    "As a Dirichlet Boundary condition, we block the left-end"
   ]
  },
  {
   "cell_type": "code",
   "execution_count": 8,
   "metadata": {},
   "outputs": [],
   "source": [
    "bcs = [dolfin.DirichletBC(V, (0.,0.), left)]"
   ]
  },
  {
   "cell_type": "markdown",
   "metadata": {},
   "source": [
    "The variational problem to solve is the minimization of the potential energy with the given boundary conditions.\n",
    "\n",
    "The problem is nonlinear and requires the use of a Newton solver. \n",
    "\n",
    "To this end we need to define the  *residual*, given by the first derivative of the energy, and the *Jacobian* (or *Hessian*), given by second directional derivative of the energy.\n",
    "\n",
    "In FEniCS, thanks to the symbolic differentiation tools provided by `UFL` this can be done automatically, without effort from the user.\n",
    "\n",
    "To this end we use the `derivative` function from `UFL` which allows us to calculate the directional derivative of a form.\n",
    "We refer to the `UFL` manual for the syntax: https://fenics.readthedocs.io/projects/ufl/en/latest/manual/form_language.html#ad\n"
   ]
  },
  {
   "cell_type": "code",
   "execution_count": 9,
   "metadata": {},
   "outputs": [],
   "source": [
    "# Compute first variation of the potential energy (directional derivative about u in the direction of v)\n",
    "residual = ufl.derivative(potential_energy, u, dolfin.TestFunction(V))\n",
    "# Compute Jacobian of the energy\n",
    "jacobian = ufl.derivative(residual, u, dolfin.TrialFunction(V))"
   ]
  },
  {
   "cell_type": "markdown",
   "metadata": {},
   "source": [
    "All the informations about the variational problem to be solved  (residual, jacobian, bcs, and indipendent variable) can be  collected in the dolfin class `NonlinearVariationalProblem` https://fenicsproject.org/docs/dolfin/2019.1.0/cpp/db/d3d/classdolfin_1_1NonlinearVariationalProblem.html"
   ]
  },
  {
   "cell_type": "code",
   "execution_count": 10,
   "metadata": {},
   "outputs": [
    {
     "name": "stdout",
     "output_type": "stream",
     "text": [
      "Calling FFC just-in-time (JIT) compiler, this may take some time.\n",
      "Calling FFC just-in-time (JIT) compiler, this may take some time.\n",
      "Calling FFC just-in-time (JIT) compiler, this may take some time.\n",
      "Calling FFC just-in-time (JIT) compiler, this may take some time.\n",
      "Calling FFC just-in-time (JIT) compiler, this may take some time.\n",
      "Calling FFC just-in-time (JIT) compiler, this may take some time.\n",
      "Calling FFC just-in-time (JIT) compiler, this may take some time.\n",
      "Calling FFC just-in-time (JIT) compiler, this may take some time.\n",
      "Calling FFC just-in-time (JIT) compiler, this may take some time.\n"
     ]
    }
   ],
   "source": [
    "# Set the variational problem\n",
    "problem = dolfin.NonlinearVariationalProblem(residual, u, bcs=bcs, J=jacobian)"
   ]
  },
  {
   "cell_type": "markdown",
   "metadata": {},
   "source": [
    "We can define then a nonlinear solver class, provided by FEniCS.\n",
    "This solver can implement the basic newton method or more complex nonlinear solvers (that we will not discuss in class).\n",
    "A long list of parameters can be specified. \n",
    "All the nonlinear solver available in `PETSc` can be used. We suggest the reading of the PETSC user manual (Chapter 5, SNES Solver). "
   ]
  },
  {
   "cell_type": "code",
   "execution_count": 11,
   "metadata": {},
   "outputs": [],
   "source": [
    "# dolfin.PETScOptions.set(\"help\",1)\n",
    "solver = dolfin.NonlinearVariationalSolver(problem)\n",
    "dolfin.info(solver.parameters, True)\n",
    "#solver.parameters.update({\"nonlinear_solver\":\"snes\"})\n",
    "#dolfin.PETScOptions.set(\"snes_type\",\"newtonls\")\n"
   ]
  },
  {
   "cell_type": "markdown",
   "metadata": {},
   "source": [
    "## Solve the static nonlinear problem"
   ]
  },
  {
   "cell_type": "markdown",
   "metadata": {},
   "source": [
    "We can now solve the problem. \n",
    "To start let us initialize the solution at $u=(0,0)$ and set vanishing loads\n"
   ]
  },
  {
   "cell_type": "code",
   "execution_count": 12,
   "metadata": {},
   "outputs": [
    {
     "data": {
      "text/plain": [
       "Text(0.5, 1.0, 'Solution with vanishing force converged with 0 iterations and reason 1')"
      ]
     },
     "execution_count": 12,
     "metadata": {},
     "output_type": "execute_result"
    },
    {
     "data": {
      "image/png": "[encoded data removed]",
      "text/plain": [
       "<Figure size 432x288 with 2 Axes>"
      ]
     },
     "metadata": {
      "needs_background": "light"
     },
     "output_type": "display_data"
    }
   ],
   "source": [
    "b0.t = 0.0\n",
    "u.interpolate(dolfin.Constant((0.,0.)))\n",
    "niterations, reason = solver.solve()\n",
    "plt.colorbar(dolfin.plot(u, mode=\"displacement\"), orientation=\"horizontal\")\n",
    "plt.title(\"Solution with vanishing force converged with {:d} iterations and reason {:b}\".format(niterations,reason))"
   ]
  },
  {
   "cell_type": "markdown",
   "metadata": {},
   "source": [
    "Without surprise the solution is null because the loading is null.\n",
    "The solver gives the output: the number of newton iterations required and the reason (`1`: converged, `0`: non-converged)\n",
    "\n",
    "Let us increase sligtly the volume force. Always initializing at $u=(0,0)$. "
   ]
  },
  {
   "cell_type": "code",
   "execution_count": 13,
   "metadata": {},
   "outputs": [
    {
     "data": {
      "text/plain": [
       "<matplotlib.colorbar.Colorbar at 0x7fe8bd550670>"
      ]
     },
     "execution_count": 13,
     "metadata": {},
     "output_type": "execute_result"
    },
    {
     "data": {
      "image/png": "[encoded data removed]",
      "text/plain": [
       "<Figure size 432x288 with 2 Axes>"
      ]
     },
     "metadata": {
      "needs_background": "light"
     },
     "output_type": "display_data"
    }
   ],
   "source": [
    "b0.t = .001\n",
    "u.interpolate(dolfin.Constant((0.,0.)))\n",
    "solver.solve()\n",
    "plt.colorbar(dolfin.plot(u, mode=\"displacement\"), orientation=\"horizontal\")"
   ]
  },
  {
   "cell_type": "markdown",
   "metadata": {},
   "source": [
    "We get a reasonable solution, showing the deflection of the beam under its own weight. \n",
    "As a quantitative output we can get the average displacement at the rigth end.\n",
    "\n",
    "\n",
    "Notes on the `python` synthax used below:\n",
    "- For string formatting syntax see https://pyformat.info/\n",
    "- list comprehension to generate a vector https://www.datacamp.com/community/tutorials/python-list-comprehension\n",
    "- We use `*` to unpack a list https://docs.python.org/2/tutorial/controlflow.html#unpacking-argument-lists\n"
   ]
  },
  {
   "cell_type": "code",
   "execution_count": 14,
   "metadata": {},
   "outputs": [
    {
     "name": "stdout",
     "output_type": "stream",
     "text": [
      "Calling FFC just-in-time (JIT) compiler, this may take some time.\n",
      "Calling FFC just-in-time (JIT) compiler, this may take some time.\n",
      "Calling FFC just-in-time (JIT) compiler, this may take some time.\n",
      "Calling FFC just-in-time (JIT) compiler, this may take some time.\n",
      "Calling FFC just-in-time (JIT) compiler, this may take some time.\n",
      "Calling FFC just-in-time (JIT) compiler, this may take some time.\n",
      "Calling FFC just-in-time (JIT) compiler, this may take some time.\n",
      "The average displacement at the right end is u=(-0.0019,0.0580)\n"
     ]
    }
   ],
   "source": [
    "uR = [dolfin.assemble(u[i]*ds(2))/Ly for i in [0, 1]]\n",
    "print(\"The average displacement at the right end is u=({:.4f},{:.4f})\".format(*uR))"
   ]
  },
  {
   "cell_type": "markdown",
   "metadata": {},
   "source": [
    "We can calculate the total reaction force at the left end to double-check against what we expect from global equilibrium:"
   ]
  },
  {
   "cell_type": "code",
   "execution_count": 15,
   "metadata": {},
   "outputs": [
    {
     "name": "stdout",
     "output_type": "stream",
     "text": [
      "Calling FFC just-in-time (JIT) compiler, this may take some time.\n",
      "Calling FFC just-in-time (JIT) compiler, this may take some time.\n",
      "Calling FFC just-in-time (JIT) compiler, this may take some time.\n",
      "Calling FFC just-in-time (JIT) compiler, this may take some time.\n",
      "Calling FFC just-in-time (JIT) compiler, this may take some time.\n",
      "Calling FFC just-in-time (JIT) compiler, this may take some time.\n",
      "Calling FFC just-in-time (JIT) compiler, this may take some time.\n",
      "The total reaction force at the left end is (0.0186,-0.0367)\n",
      "The expected value is (+0.0000,+0.0385)\n"
     ]
    }
   ],
   "source": [
    "fL = [dolfin.assemble((P*n)[i]*ds(1)) for i in [0, 1]]\n",
    "fL_exact = [dolfin.assemble(b0[i]*dx) for i in [0, 1]]\n",
    "print(\"The total reaction force at the left end is ({:.4f},{:.4f})\".format(*fL))\n",
    "print(\"The expected value is ({:+.4f},{:+.4f})\".format(*fL_exact))"
   ]
  },
  {
   "cell_type": "markdown",
   "metadata": {},
   "source": [
    "The error is non-negligible. \n",
    "- Convergence toward the expected value can be obtained after mesh refinement or increasing the interpolation order of the basis functions. \n",
    "- You can check also that the error will be very relevant with linear elements. The presence of body loading render linear elements non optimal. Have you an explication for this fact? "
   ]
  },
  {
   "cell_type": "markdown",
   "metadata": {},
   "source": [
    "## Solve of a quasi-static evolution problem with continuation"
   ]
  },
  {
   "cell_type": "markdown",
   "metadata": {},
   "source": [
    "Consider now to increment slowly the loading with time. \n",
    "We discretise the time in $n_t$ time-steps of equal length. \n",
    "At each time step $t_i$, the solution of the problem can be obtained by initializing the newton solver  with the solution of the previous time-step. This will greatly facilitate the convergence of the Newton algorithm. \n",
    "\n",
    "It sufficies to perform a `for` loop as follows. Note the initialization of the Newton algorithm at each time step is done with the latest solution available which is stored in memory.\n",
    "\n",
    "For visualisation, we store the solution in an `XDMF` file, that we can open with `paraview`."
   ]
  },
  {
   "cell_type": "markdown",
   "metadata": {},
   "source": [
    "\n",
    "*Remark:* \n",
    "- The initialization of the solution before starting the solver is fundamental in nonlinear problems, because the solution can be not unique. \n",
    "\n",
    "- Smaller time-steps generally helps convergence. Nonlinear solves can not converge for large time-step because the initialization of the newton solver is not close enough to a possible solution.\n",
    "\n",
    "- Newton solvers converge very quickly (quadratic convergence rate) when they are close to a possible solution of the system to solve. But they can stagnate or diverge is they are not correctly initialized. \n",
    "\n",
    "- You can monitor the interation of the Newton solver in the terminal window where you launched `jupyter`.\n",
    "\n",
    "You can play to test these points\n"
   ]
  },
  {
   "cell_type": "code",
   "execution_count": 16,
   "metadata": {},
   "outputs": [
    {
     "name": "stdout",
     "output_type": "stream",
     "text": [
      "t=+0.000, u=+0.000\n",
      "t=+0.006, u=-0.300\n",
      "t=+0.011, u=-0.510\n",
      "t=+0.017, u=-0.638\n",
      "t=+0.022, u=-0.718\n",
      "t=+0.028, u=-0.770\n",
      "t=+0.033, u=-0.806\n",
      "t=+0.039, u=-0.832\n",
      "t=+0.044, u=-0.852\n",
      "t=+0.050, u=-0.868\n"
     ]
    },
    {
     "data": {
      "text/plain": [
       "Text(0, 0.5, 'end-displacement')"
      ]
     },
     "execution_count": 16,
     "metadata": {},
     "output_type": "execute_result"
    },
    {
     "data": {
      "image/png": "[encoded data removed]",
      "text/plain": [
       "<Figure size 432x288 with 1 Axes>"
      ]
     },
     "metadata": {
      "needs_background": "light"
     },
     "output_type": "display_data"
    },
    {
     "data": {
      "image/png": "[encoded data removed]",
      "text/plain": [
       "<Figure size 432x288 with 1 Axes>"
      ]
     },
     "metadata": {
      "needs_background": "light"
     },
     "output_type": "display_data"
    }
   ],
   "source": [
    "loads = np.linspace(0, .05, 10)\n",
    "displ = np.zeros_like(loads)\n",
    "u.interpolate(dolfin.Constant((0., 0.)))\n",
    "file_u = dolfin.XDMFFile(\"output/u.xdmf\")\n",
    "file_u.parameters.update({\"flush_output\": True,\n",
    "                          \"functions_share_mesh\": True,\n",
    "                          \"rewrite_function_mesh\":False})\n",
    "for (i, t) in enumerate(loads):\n",
    "    b0.t = -t\n",
    "    solver.solve()\n",
    "    displ[i] = dolfin.assemble(u[1]*ds(2))/Ly \n",
    "    print(\"t={:+3.3f}, u={:+3.3f}\".format(t, displ[i]))\n",
    "    plt.figure(1)\n",
    "    dolfin.plot(u, mode = \"displacement\")\n",
    "    with file_u as file:\n",
    "        file.write(u,t)\n",
    "plt.figure(2)\n",
    "plt.plot(loads,displ, \"o\")\n",
    "plt.xlabel(\"load\")\n",
    "plt.ylabel(\"end-displacement\")"
   ]
  },
  {
   "cell_type": "markdown",
   "metadata": {},
   "source": [
    "# Wrap up"
   ]
  },
  {
   "cell_type": "markdown",
   "metadata": {},
   "source": [
    "Let us refactor the nonlinear solver in a function that resume the code required to solve the problem."
   ]
  },
  {
   "cell_type": "code",
   "execution_count": 31,
   "metadata": {},
   "outputs": [],
   "source": [
    "import dolfin\n",
    "import ufl\n",
    "import numpy as np\n",
    "import matplotlib.pyplot as plt\n",
    "dolfin.parameters[\"form_compiler\"][\"cpp_optimize\"] = True\n",
    "dolfin.parameters[\"form_compiler\"][\"representation\"] = \"uflacs\"\n",
    "plt.style.use('seaborn-notebook')\n",
    "\n",
    "def solve_hyperelasticity(load_max=0.1, nsteps=40, load_min=0, nu=0.3, nx=20, ny=5, Lx=1, Ly=.1):\n",
    "    dim = 2\n",
    "    degree = 2\n",
    "    mesh = dolfin.RectangleMesh(dolfin.Point(0, 0), dolfin.Point(Lx, Ly), nx, ny)\n",
    "    left = dolfin.CompiledSubDomain(\"near(x[0], 0) && on_boundary\")\n",
    "    right = dolfin.CompiledSubDomain(\"near(x[0], Lx) && on_boundary\", Lx=Lx)\n",
    "    boundary_markers = dolfin.MeshFunction(\"size_t\", mesh, dim=1, value=0)\n",
    "    left_index = 1\n",
    "    right_index = 2\n",
    "    left.mark(boundary_markers, left_index)\n",
    "    right.mark(boundary_markers, right_index)\n",
    "    ds = dolfin.ds(domain=mesh,subdomain_data=boundary_markers)\n",
    "    dx = dolfin.dx(domain=mesh)\n",
    "    \n",
    "    V_element = dolfin.VectorElement('CG', ufl.triangle, degree=degree, dim=dim) \n",
    "    V = dolfin.FunctionSpace(mesh, V_element)\n",
    "    u = dolfin.Function(V, name=\"u\")\n",
    "    \n",
    "    I = ufl.Identity(dim)\n",
    "    F = ufl.variable(I + ufl.grad(u))  \n",
    "    C = F.T*F                   \n",
    "    Ic = ufl.tr(C)\n",
    "    J  = ufl.det(F)\n",
    "    E = 1/2*(C-I)\n",
    "    Y = 1.e3\n",
    "    mu, lmbda = dolfin.Constant(Y/(2*(1 + nu))), dolfin.Constant(Y*nu/((1 + nu)*(1 - 2*nu)))\n",
    "    lmbda = 2*lmbda*mu/(lmbda + 2*mu) \n",
    "    psi = (mu/2)*(Ic - 2) - mu*ufl.ln(J) + (lmbda/2)*(ufl.ln(J))**2\n",
    "    \n",
    "    b0 = dolfin.Expression((\"0.0\", \"t*mu\"), t=0, mu=mu, degree=0)  \n",
    "    g0 = mu*dolfin.Constant((0.0,0.0)) \n",
    "    \n",
    "    potential_energy = psi*dx - ufl.dot(b0, u)*dx - ufl.dot(g0, u)*ds(2)\n",
    "    residual = ufl.derivative(potential_energy, u, dolfin.TestFunction(V))\n",
    "    jacobian = ufl.derivative(residual, u, dolfin.TrialFunction(V))\n",
    "    bcs = [dolfin.DirichletBC(V, (0., 0.), left)]\n",
    "    problem = dolfin.NonlinearVariationalProblem(residual, u, bcs=bcs, J=jacobian)\n",
    "    solver = dolfin.NonlinearVariationalSolver(problem)\n",
    "    loads = np.linspace(load_min, load_max, nsteps)\n",
    "    displ = np.zeros_like(loads)\n",
    "    ux = np.zeros_like(loads)\n",
    "    uy = np.zeros_like(loads)\n",
    "    u.interpolate(dolfin.Constant((0.,0.)))\n",
    "    file_u = dolfin.XDMFFile(\"output/u.xdmf\")\n",
    "    file_u.parameters.update({\"flush_output\": True,\n",
    "                              \"functions_share_mesh\": True,\n",
    "                              \"rewrite_function_mesh\": False})\n",
    "    for (i, t) in enumerate(loads):\n",
    "        b0.t = -t\n",
    "        solver.solve()\n",
    "        displ[i] = dolfin.assemble(u[1]*ds(2))/Ly \n",
    "        ux[i] = u[0](Lx, Ly/2)\n",
    "        uy[i] = u[1](Lx, Ly/2)\n",
    "        print(\"t={:+3.3f}, u={:+3.3f}\".format(t, displ[i]))\n",
    "        with file_u as file:\n",
    "            file.write(u, t)\n",
    "    plt.figure(2)\n",
    "    plt.plot(loads,displ,\"o\")\n",
    "    plt.xlabel(\"load\")\n",
    "    plt.ylabel(\"end-displacement\")\n",
    "    plt.savefig(\"output/displacement.png\")\n",
    "    return (loads, displ, ux, uy)"
   ]
  },
  {
   "cell_type": "markdown",
   "metadata": {},
   "source": [
    "We can then test it:"
   ]
  },
  {
   "cell_type": "code",
   "execution_count": 32,
   "metadata": {},
   "outputs": [
    {
     "ename": "AttributeError",
     "evalue": "'float' object has no attribute 'get'",
     "output_type": "error",
     "traceback": [
      "\u001b[0;31m---------------------------------------------------------------------------\u001b[0m",
      "\u001b[0;31mAttributeError\u001b[0m                            Traceback (most recent call last)",
      "\u001b[0;32m<ipython-input-32-9b210576a3ab>\u001b[0m in \u001b[0;36m<module>\u001b[0;34m\u001b[0m\n\u001b[0;32m----> 1\u001b[0;31m \u001b[0mloads\u001b[0m\u001b[0;34m,\u001b[0m \u001b[0mdispl\u001b[0m \u001b[0;34m=\u001b[0m \u001b[0msolve_hyperelasticity\u001b[0m\u001b[0;34m(\u001b[0m\u001b[0mload_max\u001b[0m\u001b[0;34m=\u001b[0m\u001b[0;36m.3\u001b[0m\u001b[0;34m,\u001b[0m\u001b[0mnsteps\u001b[0m\u001b[0;34m=\u001b[0m\u001b[0;36m40\u001b[0m\u001b[0;34m,\u001b[0m\u001b[0mload_min\u001b[0m\u001b[0;34m=\u001b[0m\u001b[0;36m0\u001b[0m\u001b[0;34m,\u001b[0m\u001b[0mnu\u001b[0m\u001b[0;34m=\u001b[0m\u001b[0;36m0.3\u001b[0m\u001b[0;34m,\u001b[0m\u001b[0mnx\u001b[0m\u001b[0;34m=\u001b[0m\u001b[0;36m20\u001b[0m\u001b[0;34m,\u001b[0m\u001b[0mny\u001b[0m\u001b[0;34m=\u001b[0m\u001b[0;36m5\u001b[0m\u001b[0;34m,\u001b[0m\u001b[0mLx\u001b[0m\u001b[0;34m=\u001b[0m\u001b[0;36m1\u001b[0m\u001b[0;34m,\u001b[0m\u001b[0mLy\u001b[0m\u001b[0;34m=\u001b[0m\u001b[0;36m.1\u001b[0m\u001b[0;34m)\u001b[0m\u001b[0;34m\u001b[0m\u001b[0;34m\u001b[0m\u001b[0m\n\u001b[0m",
      "\u001b[0;32m<ipython-input-31-f6443458952e>\u001b[0m in \u001b[0;36msolve_hyperelasticity\u001b[0;34m(load_max, nsteps, load_min, nu, nx, ny, Lx, Ly)\u001b[0m\n\u001b[1;32m     58\u001b[0m         \u001b[0msolver\u001b[0m\u001b[0;34m.\u001b[0m\u001b[0msolve\u001b[0m\u001b[0;34m(\u001b[0m\u001b[0;34m)\u001b[0m\u001b[0;34m\u001b[0m\u001b[0;34m\u001b[0m\u001b[0m\n\u001b[1;32m     59\u001b[0m         \u001b[0mdispl\u001b[0m\u001b[0;34m[\u001b[0m\u001b[0mi\u001b[0m\u001b[0;34m]\u001b[0m \u001b[0;34m=\u001b[0m \u001b[0mdolfin\u001b[0m\u001b[0;34m.\u001b[0m\u001b[0massemble\u001b[0m\u001b[0;34m(\u001b[0m\u001b[0mu\u001b[0m\u001b[0;34m[\u001b[0m\u001b[0;36m1\u001b[0m\u001b[0;34m]\u001b[0m\u001b[0;34m*\u001b[0m\u001b[0mds\u001b[0m\u001b[0;34m(\u001b[0m\u001b[0;36m2\u001b[0m\u001b[0;34m)\u001b[0m\u001b[0;34m)\u001b[0m\u001b[0;34m/\u001b[0m\u001b[0mLy\u001b[0m\u001b[0;34m\u001b[0m\u001b[0;34m\u001b[0m\u001b[0m\n\u001b[0;32m---> 60\u001b[0;31m         \u001b[0mux\u001b[0m\u001b[0;34m[\u001b[0m\u001b[0mi\u001b[0m\u001b[0;34m]\u001b[0m \u001b[0;34m=\u001b[0m \u001b[0mu\u001b[0m\u001b[0;34m[\u001b[0m\u001b[0;36m0\u001b[0m\u001b[0;34m]\u001b[0m\u001b[0;34m(\u001b[0m\u001b[0mLx\u001b[0m\u001b[0;34m,\u001b[0m \u001b[0mLy\u001b[0m\u001b[0;34m/\u001b[0m\u001b[0;36m2\u001b[0m\u001b[0;34m)\u001b[0m\u001b[0;34m\u001b[0m\u001b[0;34m\u001b[0m\u001b[0m\n\u001b[0m\u001b[1;32m     61\u001b[0m         \u001b[0muy\u001b[0m\u001b[0;34m[\u001b[0m\u001b[0mi\u001b[0m\u001b[0;34m]\u001b[0m \u001b[0;34m=\u001b[0m \u001b[0mu\u001b[0m\u001b[0;34m[\u001b[0m\u001b[0;36m1\u001b[0m\u001b[0;34m]\u001b[0m\u001b[0;34m(\u001b[0m\u001b[0mLx\u001b[0m\u001b[0;34m,\u001b[0m \u001b[0mLy\u001b[0m\u001b[0;34m/\u001b[0m\u001b[0;36m2\u001b[0m\u001b[0;34m)\u001b[0m\u001b[0;34m\u001b[0m\u001b[0;34m\u001b[0m\u001b[0m\n\u001b[1;32m     62\u001b[0m         \u001b[0mprint\u001b[0m\u001b[0;34m(\u001b[0m\u001b[0;34m\"t={:+3.3f}, u={:+3.3f}\"\u001b[0m\u001b[0;34m.\u001b[0m\u001b[0mformat\u001b[0m\u001b[0;34m(\u001b[0m\u001b[0mt\u001b[0m\u001b[0;34m,\u001b[0m \u001b[0mdispl\u001b[0m\u001b[0;34m[\u001b[0m\u001b[0mi\u001b[0m\u001b[0;34m]\u001b[0m\u001b[0;34m)\u001b[0m\u001b[0;34m)\u001b[0m\u001b[0;34m\u001b[0m\u001b[0;34m\u001b[0m\u001b[0m\n",
      "\u001b[0;32m~/anaconda3/envs/fenicsproject/lib/python3.8/site-packages/ufl/exproperators.py\u001b[0m in \u001b[0;36m_call\u001b[0;34m(self, arg, mapping, component)\u001b[0m\n\u001b[1;32m    339\u001b[0m         \u001b[0;32mreturn\u001b[0m \u001b[0m_restrict\u001b[0m\u001b[0;34m(\u001b[0m\u001b[0mself\u001b[0m\u001b[0;34m,\u001b[0m \u001b[0marg\u001b[0m\u001b[0;34m)\u001b[0m\u001b[0;34m\u001b[0m\u001b[0;34m\u001b[0m\u001b[0m\n\u001b[1;32m    340\u001b[0m     \u001b[0;32melse\u001b[0m\u001b[0;34m:\u001b[0m\u001b[0;34m\u001b[0m\u001b[0;34m\u001b[0m\u001b[0m\n\u001b[0;32m--> 341\u001b[0;31m         \u001b[0;32mreturn\u001b[0m \u001b[0m_eval\u001b[0m\u001b[0;34m(\u001b[0m\u001b[0mself\u001b[0m\u001b[0;34m,\u001b[0m \u001b[0marg\u001b[0m\u001b[0;34m,\u001b[0m \u001b[0mmapping\u001b[0m\u001b[0;34m,\u001b[0m \u001b[0mcomponent\u001b[0m\u001b[0;34m)\u001b[0m\u001b[0;34m\u001b[0m\u001b[0;34m\u001b[0m\u001b[0m\n\u001b[0m\u001b[1;32m    342\u001b[0m \u001b[0;34m\u001b[0m\u001b[0m\n\u001b[1;32m    343\u001b[0m \u001b[0;34m\u001b[0m\u001b[0m\n",
      "\u001b[0;32m~/anaconda3/envs/fenicsproject/lib/python3.8/site-packages/ufl/exproperators.py\u001b[0m in \u001b[0;36m_eval\u001b[0;34m(self, coord, mapping, component)\u001b[0m\n\u001b[1;32m    329\u001b[0m         \u001b[0mmapping\u001b[0m \u001b[0;34m=\u001b[0m \u001b[0;34m{\u001b[0m\u001b[0;34m}\u001b[0m\u001b[0;34m\u001b[0m\u001b[0;34m\u001b[0m\u001b[0m\n\u001b[1;32m    330\u001b[0m     \u001b[0mindex_values\u001b[0m \u001b[0;34m=\u001b[0m \u001b[0mStackDict\u001b[0m\u001b[0;34m(\u001b[0m\u001b[0;34m)\u001b[0m\u001b[0;34m\u001b[0m\u001b[0;34m\u001b[0m\u001b[0m\n\u001b[0;32m--> 331\u001b[0;31m     \u001b[0;32mreturn\u001b[0m \u001b[0mf\u001b[0m\u001b[0;34m.\u001b[0m\u001b[0mevaluate\u001b[0m\u001b[0;34m(\u001b[0m\u001b[0mcoord\u001b[0m\u001b[0;34m,\u001b[0m \u001b[0mmapping\u001b[0m\u001b[0;34m,\u001b[0m \u001b[0mcomponent\u001b[0m\u001b[0;34m,\u001b[0m \u001b[0mindex_values\u001b[0m\u001b[0;34m)\u001b[0m\u001b[0;34m\u001b[0m\u001b[0;34m\u001b[0m\u001b[0m\n\u001b[0m\u001b[1;32m    332\u001b[0m \u001b[0;34m\u001b[0m\u001b[0m\n\u001b[1;32m    333\u001b[0m \u001b[0;34m\u001b[0m\u001b[0m\n",
      "\u001b[0;32m~/anaconda3/envs/fenicsproject/lib/python3.8/site-packages/ufl/indexed.py\u001b[0m in \u001b[0;36mevaluate\u001b[0;34m(self, x, mapping, component, index_values, derivatives)\u001b[0m\n\u001b[1;32m    115\u001b[0m             \u001b[0;32mreturn\u001b[0m \u001b[0mA\u001b[0m\u001b[0;34m.\u001b[0m\u001b[0mevaluate\u001b[0m\u001b[0;34m(\u001b[0m\u001b[0mx\u001b[0m\u001b[0;34m,\u001b[0m \u001b[0mmapping\u001b[0m\u001b[0;34m,\u001b[0m \u001b[0mcomponent\u001b[0m\u001b[0;34m,\u001b[0m \u001b[0mindex_values\u001b[0m\u001b[0;34m,\u001b[0m \u001b[0mderivatives\u001b[0m\u001b[0;34m)\u001b[0m\u001b[0;34m\u001b[0m\u001b[0;34m\u001b[0m\u001b[0m\n\u001b[1;32m    116\u001b[0m         \u001b[0;32melse\u001b[0m\u001b[0;34m:\u001b[0m\u001b[0;34m\u001b[0m\u001b[0;34m\u001b[0m\u001b[0m\n\u001b[0;32m--> 117\u001b[0;31m             \u001b[0;32mreturn\u001b[0m \u001b[0mA\u001b[0m\u001b[0;34m.\u001b[0m\u001b[0mevaluate\u001b[0m\u001b[0;34m(\u001b[0m\u001b[0mx\u001b[0m\u001b[0;34m,\u001b[0m \u001b[0mmapping\u001b[0m\u001b[0;34m,\u001b[0m \u001b[0mcomponent\u001b[0m\u001b[0;34m,\u001b[0m \u001b[0mindex_values\u001b[0m\u001b[0;34m)\u001b[0m\u001b[0;34m\u001b[0m\u001b[0;34m\u001b[0m\u001b[0m\n\u001b[0m\u001b[1;32m    118\u001b[0m \u001b[0;34m\u001b[0m\u001b[0m\n\u001b[1;32m    119\u001b[0m     \u001b[0;32mdef\u001b[0m \u001b[0m__str__\u001b[0m\u001b[0;34m(\u001b[0m\u001b[0mself\u001b[0m\u001b[0;34m)\u001b[0m\u001b[0;34m:\u001b[0m\u001b[0;34m\u001b[0m\u001b[0;34m\u001b[0m\u001b[0m\n",
      "\u001b[0;32m~/anaconda3/envs/fenicsproject/lib/python3.8/site-packages/ufl/core/terminal.py\u001b[0m in \u001b[0;36mevaluate\u001b[0;34m(self, x, mapping, component, index_values, derivatives)\u001b[0m\n\u001b[1;32m     54\u001b[0m     \u001b[0;32mdef\u001b[0m \u001b[0mevaluate\u001b[0m\u001b[0;34m(\u001b[0m\u001b[0mself\u001b[0m\u001b[0;34m,\u001b[0m \u001b[0mx\u001b[0m\u001b[0;34m,\u001b[0m \u001b[0mmapping\u001b[0m\u001b[0;34m,\u001b[0m \u001b[0mcomponent\u001b[0m\u001b[0;34m,\u001b[0m \u001b[0mindex_values\u001b[0m\u001b[0;34m,\u001b[0m \u001b[0mderivatives\u001b[0m\u001b[0;34m=\u001b[0m\u001b[0;34m(\u001b[0m\u001b[0;34m)\u001b[0m\u001b[0;34m)\u001b[0m\u001b[0;34m:\u001b[0m\u001b[0;34m\u001b[0m\u001b[0;34m\u001b[0m\u001b[0m\n\u001b[1;32m     55\u001b[0m         \u001b[0;34m\"Get *self* from *mapping* and return the component asked for.\"\u001b[0m\u001b[0;34m\u001b[0m\u001b[0;34m\u001b[0m\u001b[0m\n\u001b[0;32m---> 56\u001b[0;31m         \u001b[0mf\u001b[0m \u001b[0;34m=\u001b[0m \u001b[0mmapping\u001b[0m\u001b[0;34m.\u001b[0m\u001b[0mget\u001b[0m\u001b[0;34m(\u001b[0m\u001b[0mself\u001b[0m\u001b[0;34m)\u001b[0m\u001b[0;34m\u001b[0m\u001b[0;34m\u001b[0m\u001b[0m\n\u001b[0m\u001b[1;32m     57\u001b[0m         \u001b[0;31m# No mapping, trying to evaluate self as a constant\u001b[0m\u001b[0;34m\u001b[0m\u001b[0;34m\u001b[0m\u001b[0;34m\u001b[0m\u001b[0m\n\u001b[1;32m     58\u001b[0m         \u001b[0;32mif\u001b[0m \u001b[0mf\u001b[0m \u001b[0;32mis\u001b[0m \u001b[0;32mNone\u001b[0m\u001b[0;34m:\u001b[0m\u001b[0;34m\u001b[0m\u001b[0;34m\u001b[0m\u001b[0m\n",
      "\u001b[0;31mAttributeError\u001b[0m: 'float' object has no attribute 'get'"
     ]
    }
   ],
   "source": [
    "loads, displ = solve_hyperelasticity(load_max=.3,nsteps=40,load_min=0,nu=0.3,nx=20,ny=5,Lx=1,Ly=.1)"
   ]
  },
  {
   "cell_type": "markdown",
   "metadata": {},
   "source": [
    "# Exercice\n",
    "- Try to increase the maximum loading to 0.3. Is the Newton solver converging?\n",
    "- Try to reduce the number of steps to reach the maximum loading. Is the Newton solver converging?\n",
    "- For low forces, plot y(L)/x(L) versus the force.\n",
    "- For significant forces, draw the same thing. What are the shapes of the two curves ?\n",
    "- Try to replace the elastic energy density with the weakly incompressible Neo-Hookean mode where:\n",
    "$$\n",
    "\\psi(F) = \\dfrac{\\mu}{2}(\\mathrm{tr}(F^T F) - 2) - \\mu\\ln(\\det F) + (\\lambda/2)*(\\ln(\\det F))^2\n",
    "$$\n",
    "and perform again the numerical simulation for a loading going form 0 to 0.3. Is now the Newton solver converging? \n",
    "- A further *optional* analytical exercice: calculate by analytical derivation for the energy density given above.\n",
    "    $$P=\\dfrac{\\partial \\psi(F)}{\\partial F}$$\n",
    "    You can find help in a book of nonlinear elasticity. For example, see Sec. 3.5 of *P.Wriggers, Nonlinear Finite Element Methods, Springer*, that you can download legally from your digital library on the monUPMC account."
   ]
  },
  {
   "cell_type": "markdown",
   "metadata": {},
   "source": []
  },
  {
   "cell_type": "code",
   "execution_count": null,
   "metadata": {},
   "outputs": [],
   "source": []
  },
  {
   "cell_type": "code",
   "execution_count": 28,
   "metadata": {},
   "outputs": [
    {
     "name": "stdout",
     "output_type": "stream",
     "text": [
      "t=+0.000, u=+0.000\n",
      "t=+0.026, u=-0.752\n",
      "t=+0.051, u=-0.871\n",
      "t=+0.077, u=-0.914\n",
      "t=+0.103, u=-0.940\n",
      "t=+0.128, u=-0.958\n",
      "t=+0.154, u=-0.972\n",
      "t=+0.179, u=-0.985\n",
      "t=+0.205, u=-0.996\n",
      "t=+0.231, u=-1.006\n",
      "t=+0.256, u=-1.015\n",
      "t=+0.282, u=-1.024\n",
      "t=+0.308, u=-1.033\n",
      "t=+0.333, u=-1.041\n",
      "t=+0.359, u=-1.049\n",
      "t=+0.385, u=-1.057\n",
      "t=+0.410, u=-1.065\n",
      "t=+0.436, u=-1.072\n",
      "t=+0.462, u=-1.080\n",
      "t=+0.487, u=-1.087\n",
      "t=+0.513, u=-1.094\n",
      "t=+0.538, u=-1.102\n",
      "t=+0.564, u=-1.109\n",
      "t=+0.590, u=-1.116\n",
      "t=+0.615, u=-1.123\n",
      "t=+0.641, u=-1.130\n",
      "t=+0.667, u=-1.137\n",
      "t=+0.692, u=-1.144\n",
      "t=+0.718, u=-1.151\n",
      "t=+0.744, u=-1.158\n",
      "t=+0.769, u=-1.165\n",
      "t=+0.795, u=-1.172\n",
      "t=+0.821, u=-1.179\n",
      "t=+0.846, u=-1.186\n",
      "t=+0.872, u=-1.193\n",
      "t=+0.897, u=-1.201\n",
      "t=+0.923, u=-1.208\n",
      "t=+0.949, u=-1.215\n",
      "t=+0.974, u=-1.222\n",
      "t=+1.000, u=-1.229\n"
     ]
    },
    {
     "data": {
      "image/png": "[encoded data removed]",
      "text/plain": [
       "<Figure size 576x396 with 1 Axes>"
      ]
     },
     "metadata": {
      "needs_background": "light"
     },
     "output_type": "display_data"
    }
   ],
   "source": [
    "loads, displ = solve_hyperelasticity(load_max=1,nsteps=40,load_min=0,nu=0.3,nx=20,ny=5,Lx=1,Ly=.1)"
   ]
  },
  {
   "cell_type": "code",
   "execution_count": 29,
   "metadata": {},
   "outputs": [
    {
     "data": {
      "text/plain": [
       "array([ 0.        , -0.75226334, -0.87102079, -0.91439281, -0.93956281,\n",
       "       -0.9576512 , -0.97216439, -0.98457343, -0.99562026, -1.00572885,\n",
       "       -1.01516352, -1.02409968, -1.032659  , -1.04092854, -1.04897178,\n",
       "       -1.05683537, -1.06455335, -1.07215019, -1.07964314, -1.08704445,\n",
       "       -1.0943636 , -1.10160927, -1.10879056, -1.11591742, -1.12300039,\n",
       "       -1.13005004, -1.13707653, -1.14408921, -1.15109647, -1.15810573,\n",
       "       -1.16512344, -1.1721552 , -1.17920582, -1.18627947, -1.19337972,\n",
       "       -1.20050965, -1.2076719 , -1.21486877, -1.22210221, -1.22937391])"
      ]
     },
     "execution_count": 29,
     "metadata": {},
     "output_type": "execute_result"
    }
   ],
   "source": [
    "displ"
   ]
  },
  {
   "cell_type": "code",
   "execution_count": 30,
   "metadata": {},
   "outputs": [
    {
     "data": {
      "text/plain": [
       "array([0.        , 0.02564103, 0.05128205, 0.07692308, 0.1025641 ,\n",
       "       0.12820513, 0.15384615, 0.17948718, 0.20512821, 0.23076923,\n",
       "       0.25641026, 0.28205128, 0.30769231, 0.33333333, 0.35897436,\n",
       "       0.38461538, 0.41025641, 0.43589744, 0.46153846, 0.48717949,\n",
       "       0.51282051, 0.53846154, 0.56410256, 0.58974359, 0.61538462,\n",
       "       0.64102564, 0.66666667, 0.69230769, 0.71794872, 0.74358974,\n",
       "       0.76923077, 0.79487179, 0.82051282, 0.84615385, 0.87179487,\n",
       "       0.8974359 , 0.92307692, 0.94871795, 0.97435897, 1.        ])"
      ]
     },
     "execution_count": 30,
     "metadata": {},
     "output_type": "execute_result"
    }
   ],
   "source": [
    "loads"
   ]
  },
  {
   "cell_type": "code",
   "execution_count": null,
   "metadata": {},
   "outputs": [],
   "source": []
  }
 ],
 "metadata": {
  "file_extension": ".py",
  "interpreter": {
   "hash": "d300eec484c8db315f7c522a636ca8ac7b9c1ffb7cbf69473f0f70e2b173769b"
  },
  "kernel_info": {
   "name": "python3"
  },
  "kernelspec": {
   "display_name": "Python 3.8.8 64-bit ('fenicsproject': conda)",
   "name": "python3"
  },
  "language_info": {
   "codemirror_mode": {
    "name": "ipython",
    "version": 3
   },
   "file_extension": ".py",
   "mimetype": "text/x-python",
   "name": "python",
   "nbconvert_exporter": "python",
   "pygments_lexer": "ipython3",
   "version": "3.8.8"
  },
  "mimetype": "text/x-python",
  "name": "python",
  "npconvert_exporter": "python",
  "nteract": {
   "version": "0.15.0"
  },
  "pygments_lexer": "ipython3",
  "version": 3
 },
 "nbformat": 4,
 "nbformat_minor": 4
}
