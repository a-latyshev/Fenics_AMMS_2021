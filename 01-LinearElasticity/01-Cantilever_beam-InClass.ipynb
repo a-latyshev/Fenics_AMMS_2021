{
 "cells": [
  {
   "cell_type": "markdown",
   "source": [
    "# FEniCS simulation of a cantilever beam"
   ],
   "metadata": {}
  },
  {
   "cell_type": "markdown",
   "source": [
    "The aim of this notebook is to setup a very simple FEniCS simulation. The framework is linear, plane strain elasticity. We model a cantilever beam ($L$: total length; $d$: depth), subjected to its own weight ($\\rho$: mass density per unit volume; $g$: gravity).\n",
    "\n",
    "The beam is homogenous and isotropic ($E$: Young modulus; $\\nu$: Poisson ratio) and clamped on the left end. Hooke's law reads\n",
    "\n",
    "$$\n",
    "\\sigma_{ij} = \\lambda\\varepsilon_{kk}\\delta_{ij}+2\\mu\\varepsilon_{ij},\n",
    "$$\n",
    "\n",
    "where indices $i, j, k$ are restricted to $\\{1, 2\\}$ and $\\lambda$, $\\mu$ are the Lamé coefficients :\n",
    "\n",
    "$$\n",
    "\\mu=\\frac{E}{2\\bigl(1+\\nu\\bigr)}\n",
    "\\quad\\text{and}\\quad\n",
    "\\lambda=\\frac{2\\mu\\nu}{1-2\\nu}.\n",
    "$$\n",
    "\n",
    "**Question:** how does Hooke's law read in *plane stress* elasticity?\n",
    "\n",
    "The variational formulation of the problem is the following:\n",
    "\n",
    "Find $u\\in \\mathcal{C}\\equiv\\{u: H^1(\\Omega), \\; u(x_1=0,x_2)=0\\}$ such that \n",
    "$\\forall v\\in \\mathcal{C}_0\\equiv \\mathcal{C}$\n",
    "\n",
    "\n",
    "$$\n",
    "\\int_\\Omega \\sigma(\\varepsilon(u)):\\varepsilon(v)\\,\\mathrm{d}x\\,\\mathrm{d}y =\n",
    "-\\int_{\\Omega}\\rho g\\,e_y\\cdot v\\,\\mathrm{d} x\\,\\mathrm{d} y,\n",
    "$$\n",
    "\n",
    "where $\\sigma(\\varepsilon)$ is the constitutive equation and $\\varepsilon(u)=\\mathrm{sym} (\\nabla u)$  \n",
    "\n",
    "Remark: we work with only one unknown vector field, the displacement $u_x(x_1,x_2)$"
   ],
   "metadata": {}
  },
  {
   "cell_type": "markdown",
   "source": [
    "![image of beam](cantilever_beam.png \"Cantilever beam\")"
   ],
   "metadata": {}
  },
  {
   "cell_type": "code",
   "execution_count": 1,
   "source": [
    "import dolfin as dl\n",
    "import matplotlib.pyplot as plt\n",
    "import numpy as np\n",
    "from ufl import nabla_grad\n",
    "from ufl import nabla_div"
   ],
   "outputs": [],
   "metadata": {}
  },
  {
   "cell_type": "markdown",
   "source": [
    "## 1) Start with defining the mesh"
   ],
   "metadata": {}
  },
  {
   "cell_type": "code",
   "execution_count": 26,
   "source": [
    "# geometry and mesh \n",
    "L = 1. # total length\n",
    "d = L/20. # thickness\n",
    "h = d/16. # size of a cell\n",
    "\n",
    "mesh = dl.RectangleMesh(dl.Point(0, -d/2), dl.Point(L, d/2), int(L/h), int(d/h))\n",
    "dl.plot(mesh)"
   ],
   "outputs": [
    {
     "output_type": "execute_result",
     "data": {
      "text/plain": [
       "[<matplotlib.lines.Line2D at 0x7f361e5600d0>,\n",
       " <matplotlib.lines.Line2D at 0x7f361e560580>]"
      ]
     },
     "metadata": {},
     "execution_count": 26
    },
    {
     "output_type": "display_data",
     "data": {
      "image/png": "[encoded data removed]",
      "text/plain": [
       "<Figure size 432x288 with 1 Axes>"
      ]
     },
     "metadata": {
      "needs_background": "light"
     }
    }
   ],
   "metadata": {}
  },
  {
   "cell_type": "markdown",
   "source": [
    "use\n",
    "\n",
    "```\n",
    "RectangleMesh()\n",
    "\n",
    "plot(mesh)\n",
    "```"
   ],
   "metadata": {}
  },
  {
   "cell_type": "markdown",
   "source": [
    "## 2) Choose an element (Lagrange of degree 1)"
   ],
   "metadata": {}
  },
  {
   "cell_type": "code",
   "execution_count": 3,
   "source": [
    "V = dl.VectorFunctionSpace(mesh, 'P', 1)"
   ],
   "outputs": [],
   "metadata": {}
  },
  {
   "cell_type": "markdown",
   "source": [
    "use\n",
    "\n",
    "```\n",
    "FunctionSpace( )\n",
    "```\n",
    "\n",
    "or ? \n",
    "\n",
    "```\n",
    "VectorFunctionSpace( )\n",
    "```"
   ],
   "metadata": {}
  },
  {
   "cell_type": "markdown",
   "source": [
    "## 3) Define the stress\n",
    "\n",
    "$u_i$ is  the displacement vector (note: $u=u(x_1,x_2)$)\n",
    "\n",
    "and \n",
    "\n",
    "$\\epsilon_{ij} = \\frac12\\bigl(\\partial_i u_j+\\partial_j u_i\\bigr)$ is the stress tensor."
   ],
   "metadata": {}
  },
  {
   "cell_type": "code",
   "execution_count": 5,
   "source": [
    "# use def to define the fonction epsilon = epsilon(u), just like\n",
    "\n",
    "\n",
    "def epsilon(u):\n",
    "    return 0.5*(nabla_grad(u) + nabla_grad(u).T)"
   ],
   "outputs": [],
   "metadata": {}
  },
  {
   "cell_type": "markdown",
   "source": [
    "## 4) Write down Hooke's law"
   ],
   "metadata": {}
  },
  {
   "cell_type": "code",
   "execution_count": 6,
   "source": [
    "# here we use the values\n",
    "E = 1.0\n",
    "nu = 0.3\n",
    "mu_ = E/(2*(1+nu))\n",
    "lambda_ = E*nu/((1+nu)*(1-2*nu))\n",
    "\n",
    "# Hook's law is written as the top of this notebook\n",
    "def sigma(u):\n",
    "    return lambda_*nabla_div(u)*dl.Identity(d) + 2*mu_*epsilon(u)"
   ],
   "outputs": [],
   "metadata": {}
  },
  {
   "cell_type": "markdown",
   "source": [
    "## 5) Name `u` the `TrialFunction` and `v` the `TestFunction`"
   ],
   "metadata": {}
  },
  {
   "cell_type": "code",
   "execution_count": 7,
   "source": [
    "# Define variational problem\n",
    "u = dl.TrialFunction(V)\n",
    "v = dl.TestFunction(V)\n",
    "d = u.geometric_dimension()  # space dimension"
   ],
   "outputs": [
    {
     "output_type": "execute_result",
     "data": {
      "text/plain": [
       "NablaGrad(Argument(FunctionSpace(Mesh(VectorElement(FiniteElement('Lagrange', triangle, 1), dim=2), 0), VectorElement(FiniteElement('Lagrange', triangle, 1), dim=2)), 1, None))"
      ]
     },
     "metadata": {},
     "execution_count": 7
    }
   ],
   "metadata": {}
  },
  {
   "cell_type": "markdown",
   "source": [
    "## 6) Introduce the bilinear form\n",
    "$$\n",
    "\\int_\\Omega \\sigma(\\varepsilon(u)):\\varepsilon(v)\\,\\mathrm{d}x\\,\\mathrm{d}y\n",
    "$$\n",
    "\n",
    "What is the difference between `dolfin.dot( )` and `dolfin.inner( )` ?"
   ],
   "metadata": {}
  },
  {
   "cell_type": "code",
   "execution_count": 9,
   "source": [
    "a = dl.inner(sigma(u), epsilon(v))*dl.dx"
   ],
   "outputs": [],
   "metadata": {}
  },
  {
   "cell_type": "markdown",
   "source": [
    "## 7) Introduce the linear form\n",
    "\n",
    "$$\n",
    "-\\int_{\\Omega}\\rho g\\,e_y\\cdot v\\,\\mathrm{d} x\\,\\mathrm{d} y.\n",
    "$$"
   ],
   "metadata": {}
  },
  {
   "cell_type": "code",
   "execution_count": 25,
   "source": [
    "# here we use the value\n",
    "g = 1.0\n",
    "rho = 1.0\n",
    "f = dl.Constant((0, -rho*g))\n",
    "b = dl.dot(f, v)*dl.dx "
   ],
   "outputs": [],
   "metadata": {}
  },
  {
   "cell_type": "markdown",
   "source": [
    "## 8)  Boundary conditions\n",
    "\n",
    "Dirichelet Boundary Condition: $u(0,x_2)=0 \\quad  \\forall x_2 \\in [-\\frac{d}{2},\\frac{d}{2}]$\n",
    "\n",
    "As $x_1=0$ is not well defined in our mesh, we write \n",
    "\n",
    "$u(x_1,x_2)=0 \\quad \\forall x_1 \\ll L  \\text{ and } \\forall x_2 \\in [-\\frac{d}{2},\\frac{d}{2}]$\n"
   ],
   "metadata": {}
  },
  {
   "cell_type": "code",
   "execution_count": 17,
   "source": [
    "def clamped_boundary(x, on_boundary):\n",
    "    return on_boundary and x[0] == 0\n",
    "\n",
    "bc = dl.DirichletBC(V, dl.Constant((0, 0)), clamped_boundary)"
   ],
   "outputs": [],
   "metadata": {}
  },
  {
   "cell_type": "markdown",
   "source": [
    "## 9) Solving the discretized problem"
   ],
   "metadata": {}
  },
  {
   "cell_type": "code",
   "execution_count": 15,
   "source": [
    "# We introduce the solution we are looking as a Function \n",
    "#\n",
    "usol = dl.Function(V)\n"
   ],
   "outputs": [
    {
     "output_type": "stream",
     "name": "stdout",
     "text": [
      "Calling FFC just-in-time (JIT) compiler, this may take some time.\n",
      "Calling FFC just-in-time (JIT) compiler, this may take some time.\n",
      "Calling FFC just-in-time (JIT) compiler, this may take some time.\n"
     ]
    }
   ],
   "metadata": {}
  },
  {
   "cell_type": "code",
   "execution_count": 27,
   "source": [
    "# And we solve the linear problem using \n",
    "#\n",
    "dl.solve(a == b, usol, bc)"
   ],
   "outputs": [],
   "metadata": {}
  },
  {
   "cell_type": "markdown",
   "source": [
    "## 10) Using linear beam theory, we plot the vertical deflection of the solution \n",
    "\n",
    "$$H(x_1)=u_2(x_1,0)$$"
   ],
   "metadata": {}
  },
  {
   "cell_type": "code",
   "execution_count": 19,
   "source": [
    "# we introduce the coefficients\n",
    "D=E*d**3/12./(1.-nu**2) # bending rigidity of an elastic plate\n",
    "k=0.2 # unknown coefficient that we want to find (it is not equal to 0.2)\n",
    "Hmax = k*g*d/D # maximum vertical deflection, from linear 'beam' theory "
   ],
   "outputs": [],
   "metadata": {}
  },
  {
   "cell_type": "markdown",
   "source": [
    "$$ H(x_1) = H_\\text{max} \\, \\left ( - \\frac{1}{3} \\, (x_1-1)^4 - \\frac{4}{3} \\, x_1 + \\frac{1}{3} \\right) $$"
   ],
   "metadata": {}
  },
  {
   "cell_type": "code",
   "execution_count": 20,
   "source": [
    "Hmax"
   ],
   "outputs": [
    {
     "output_type": "execute_result",
     "data": {
      "text/plain": [
       "873.5999999999999"
      ]
     },
     "metadata": {},
     "execution_count": 20
    }
   ],
   "metadata": {}
  },
  {
   "cell_type": "code",
   "execution_count": 33,
   "source": [
    "x = np.linspace(0, L, num=50)\n",
    "H_formula = Hmax * (-1./3.*(x-1.)**4 - 4./3.*x + 1/3)\n",
    "\n",
    "plt.plot(x, H_formula, label='Beam theory')\n",
    "plt.xlabel('x[0]',color='red',fontsize=15)\n",
    "plt.ylabel('H',color='red',fontsize=15)\n",
    "plt.legend()"
   ],
   "outputs": [
    {
     "output_type": "execute_result",
     "data": {
      "text/plain": [
       "<matplotlib.legend.Legend at 0x7f35eeb8d250>"
      ]
     },
     "metadata": {},
     "execution_count": 33
    },
    {
     "output_type": "display_data",
     "data": {
      "image/png": "[encoded data removed]",
      "text/plain": [
       "<Figure size 432x288 with 1 Axes>"
      ]
     },
     "metadata": {
      "needs_background": "light"
     }
    }
   ],
   "metadata": {}
  },
  {
   "cell_type": "markdown",
   "source": [
    "## 11) On this plot, we add the plot of the numerically found  $u_2(x_1,0)$ and we change the value of $k$ for the two plots to coincide"
   ],
   "metadata": {}
  },
  {
   "cell_type": "code",
   "execution_count": 83,
   "source": [
    "k=0.12 # unknown coefficient that we want to find (it is not equal to 0.2)\n",
    "Hmax = k*g*d/D # maximum vertical deflection, from linear 'beam' theory \n",
    "H_formula = Hmax * (-1./3.*(x-1.)**4 - 4./3.*x + 1/3)\n",
    "\n",
    "u2 = []\n",
    "for x0 in x: \n",
    "    u2.append(usol(x0,0)[1])\n",
    "\n",
    "# dl.plot(usol, mode='displacement')\n",
    "plt.plot(x, H_formula, label='Beam theory')\n",
    "plt.plot(x, u2, label='FEM')\n",
    "plt.legend()\n"
   ],
   "outputs": [
    {
     "output_type": "execute_result",
     "data": {
      "text/plain": [
       "<matplotlib.legend.Legend at 0x7f35ec031e20>"
      ]
     },
     "metadata": {},
     "execution_count": 83
    },
    {
     "output_type": "display_data",
     "data": {
      "image/png": "[encoded data removed]",
      "text/plain": [
       "<Figure size 432x288 with 1 Axes>"
      ]
     },
     "metadata": {
      "needs_background": "light"
     }
    }
   ],
   "metadata": {}
  },
  {
   "cell_type": "markdown",
   "source": [
    "## 12) We plot the deformed beam, hanging under its own weight"
   ],
   "metadata": {}
  },
  {
   "cell_type": "code",
   "execution_count": 84,
   "source": [
    "# instead of plotting usol, we plot usol/Hmax with the correct value of k\n",
    "dl.plot(usol/Hmax, mode='displacement')"
   ],
   "outputs": [
    {
     "output_type": "stream",
     "name": "stdout",
     "text": [
      "Calling FFC just-in-time (JIT) compiler, this may take some time.\n"
     ]
    },
    {
     "output_type": "execute_result",
     "data": {
      "text/plain": [
       "<matplotlib.collections.PolyCollection at 0x7f35ebf45e20>"
      ]
     },
     "metadata": {},
     "execution_count": 84
    },
    {
     "output_type": "display_data",
     "data": {
      "image/png": "[encoded data removed]",
      "text/plain": [
       "<Figure size 432x288 with 1 Axes>"
      ]
     },
     "metadata": {
      "needs_background": "light"
     }
    }
   ],
   "metadata": {}
  },
  {
   "cell_type": "code",
   "execution_count": 86,
   "source": [
    "usol(L, 0)\n"
   ],
   "outputs": [
    {
     "output_type": "execute_result",
     "data": {
      "text/plain": [
       "array([-2.92723129e-03, -5.38249432e+02])"
      ]
     },
     "metadata": {},
     "execution_count": 86
    }
   ],
   "metadata": {}
  },
  {
   "cell_type": "code",
   "execution_count": 112,
   "source": [
    "def epsilon(u):\n",
    "    return 0.5*(nabla_grad(u) + nabla_grad(u).T)\n",
    "    # Hook's law is written as the top of this notebook\n",
    "d = 2\n",
    "nu = 0.3\n",
    "g = 1.0\n",
    "rho = 1.0\n",
    "f = dl.Constant((0, -rho*g))\n",
    "\n",
    "def sigma(u, lambda_, mu_):\n",
    "    return lambda_*nabla_div(u)*dl.Identity(d) + 2*mu_*epsilon(u)\n",
    "\n",
    "def clamped_boundary(x, on_boundary):\n",
    "    return on_boundary and x[0] == 0\n",
    "\n",
    "def fleche_FEM(L=1, d=1/20., E=1):\n",
    "    # geometry and mesh \n",
    "    # L = 1. # total length\n",
    "    # d = L/20. # thickness\n",
    "    h = d/16. # size of a cell\n",
    "\n",
    "    mesh = dl.RectangleMesh(dl.Point(0, -d/2), dl.Point(L, d/2), int(L/h), int(d/h))\n",
    "    V = dl.VectorFunctionSpace(mesh, 'P', 1)\n",
    "\n",
    "    # E = 1.0\n",
    "\n",
    "    mu_ = E/(2*(1+nu))\n",
    "    lambda_ = E*nu/((1+nu)*(1-2*nu))\n",
    "\n",
    "    u = dl.TrialFunction(V)\n",
    "    v = dl.TestFunction(V)\n",
    "    # d = u.geometric_dimension()  # space dimension\n",
    "\n",
    "    a = dl.inner(sigma(u, lambda_, mu_), epsilon(v))*dl.dx\n",
    "\n",
    "    # here we use the value\n",
    "\n",
    "    b = dl.dot(f, v)*dl.dx \n",
    "\n",
    "    bc = dl.DirichletBC(V, dl.Constant((0, 0)), clamped_boundary)\n",
    "\n",
    "    usol = dl.Function(V)\n",
    "    dl.solve(a == b, usol, bc)\n",
    "    return usol(L, 0)[0]\n",
    "\n"
   ],
   "outputs": [],
   "metadata": {}
  },
  {
   "cell_type": "code",
   "execution_count": 113,
   "source": [
    "E = np.arange(0.5, 10, 0.5)\n",
    "fleche_E = np.zeros(E.shape[0])\n",
    "for i, e in enumerate(E):\n",
    "    fleche_E[i] = fleche_FEM(E=e)\n"
   ],
   "outputs": [],
   "metadata": {}
  },
  {
   "cell_type": "code",
   "execution_count": 119,
   "source": [
    "abs(fleche_E)"
   ],
   "outputs": [
    {
     "output_type": "execute_result",
     "data": {
      "text/plain": [
       "array([0.00585497, 0.00292723, 0.00195164, 0.0014635 , 0.00117084,\n",
       "       0.00097572, 0.00083643, 0.00073187, 0.00065054, 0.00058547,\n",
       "       0.00053222, 0.00048789, 0.00045038, 0.00041821, 0.00039027,\n",
       "       0.0003659 , 0.0003444 , 0.00032527, 0.00030814])"
      ]
     },
     "metadata": {},
     "execution_count": 119
    }
   ],
   "metadata": {}
  },
  {
   "cell_type": "code",
   "execution_count": 120,
   "source": [
    "plt.loglog(E, abs(fleche_E))\n",
    "plt.xlabel('E')\n",
    "plt.ylabel(r'$u_2(L, 0)$')\n",
    "plt.grid()\n",
    "plt.loglog"
   ],
   "outputs": [
    {
     "output_type": "execute_result",
     "data": {
      "text/plain": [
       "<function matplotlib.pyplot.loglog(*args, **kwargs)>"
      ]
     },
     "metadata": {},
     "execution_count": 120
    },
    {
     "output_type": "display_data",
     "data": {
      "image/png": "[encoded data removed]",
      "text/plain": [
       "<Figure size 432x288 with 1 Axes>"
      ]
     },
     "metadata": {
      "needs_background": "light"
     }
    }
   ],
   "metadata": {}
  },
  {
   "cell_type": "code",
   "execution_count": null,
   "source": [],
   "outputs": [],
   "metadata": {}
  }
 ],
 "metadata": {
  "interpreter": {
   "hash": "a9cbd3b1f128285afcdf141046e972f0aada595fb8677fa39f05c70fccc1c0a9"
  },
  "kernelspec": {
   "name": "python3",
   "display_name": "Python 3.8.8 64-bit ('fenicsproject': conda)"
  },
  "language_info": {
   "codemirror_mode": {
    "name": "ipython",
    "version": 3
   },
   "file_extension": ".py",
   "mimetype": "text/x-python",
   "name": "python",
   "nbconvert_exporter": "python",
   "pygments_lexer": "ipython3",
   "version": "3.8.8"
  }
 },
 "nbformat": 4,
 "nbformat_minor": 4
}